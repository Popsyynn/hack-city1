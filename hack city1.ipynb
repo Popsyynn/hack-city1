{
 "cells": [
  {
   "cell_type": "code",
   "execution_count": null,
   "id": "cf99693b",
   "metadata": {},
   "outputs": [],
   "source": [
    "n = int(input('Enter an integer:'))\n",
    "\n",
    "empty_list = []\n",
    "if (n%3==0 and n%5)==0:\n",
    "    empty_list.append('Frizzbuzz')\n",
    "    \n",
    "elif n%3==0:\n",
    "    empty_list.append('frizz')\n",
    "    \n",
    "elif n%5==0:\n",
    "    empty_list.append('buzz')\n",
    "else:\n",
    "    empty_list.append('i')\n",
    "    \n",
    "print(empty_list)"
   ]
  },
  {
   "cell_type": "code",
   "execution_count": null,
   "id": "4281c41d",
   "metadata": {},
   "outputs": [],
   "source": []
  }
 ],
 "metadata": {
  "kernelspec": {
   "display_name": "Python 3",
   "language": "python",
   "name": "python3"
  },
  "language_info": {
   "codemirror_mode": {
    "name": "ipython",
    "version": 3
   },
   "file_extension": ".py",
   "mimetype": "text/x-python",
   "name": "python",
   "nbconvert_exporter": "python",
   "pygments_lexer": "ipython3",
   "version": "3.8.8"
  }
 },
 "nbformat": 4,
 "nbformat_minor": 5
}
